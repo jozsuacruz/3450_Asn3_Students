{
 "cells": [
  {
   "cell_type": "code",
   "execution_count": 1,
   "metadata": {},
   "outputs": [],
   "source": [
    "import thinkplot\n",
    "import thinkstats2\n",
    "import pandas as pd\n",
    "import numpy as np\n",
    "from sklearn.metrics import mean_squared_error\n",
    "import scipy.stats as ss\n",
    "from ipywidgets import interact, interactive, fixed\n",
    "import ipywidgets as widgets\n",
    "from zipfile import ZipFile\n",
    "\n",
    "##Seaborn for fancy plots. \n",
    "import matplotlib.pyplot as plt\n",
    "import seaborn as sns\n",
    "plt.rcParams[\"figure.figsize\"] = (8,8)"
   ]
  },
  {
   "cell_type": "code",
   "execution_count": 2,
   "metadata": {},
   "outputs": [
    {
     "data": {
      "text/html": [
       "<div>\n",
       "<style scoped>\n",
       "    .dataframe tbody tr th:only-of-type {\n",
       "        vertical-align: middle;\n",
       "    }\n",
       "\n",
       "    .dataframe tbody tr th {\n",
       "        vertical-align: top;\n",
       "    }\n",
       "\n",
       "    .dataframe thead th {\n",
       "        text-align: right;\n",
       "    }\n",
       "</style>\n",
       "<table border=\"1\" class=\"dataframe\">\n",
       "  <thead>\n",
       "    <tr style=\"text-align: right;\">\n",
       "      <th></th>\n",
       "      <th>race/ethnicity</th>\n",
       "      <th>parental level of education</th>\n",
       "      <th>lunch</th>\n",
       "      <th>test preparation course</th>\n",
       "      <th>math percentage</th>\n",
       "      <th>reading score percentage</th>\n",
       "      <th>writing score percentage</th>\n",
       "      <th>sex</th>\n",
       "    </tr>\n",
       "  </thead>\n",
       "  <tbody>\n",
       "    <tr>\n",
       "      <th>0</th>\n",
       "      <td>group B</td>\n",
       "      <td>bachelor's degree</td>\n",
       "      <td>standard</td>\n",
       "      <td>none</td>\n",
       "      <td>0.72</td>\n",
       "      <td>0.72</td>\n",
       "      <td>0.74</td>\n",
       "      <td>F</td>\n",
       "    </tr>\n",
       "    <tr>\n",
       "      <th>1</th>\n",
       "      <td>group C</td>\n",
       "      <td>some college</td>\n",
       "      <td>standard</td>\n",
       "      <td>completed</td>\n",
       "      <td>0.69</td>\n",
       "      <td>0.90</td>\n",
       "      <td>0.88</td>\n",
       "      <td>F</td>\n",
       "    </tr>\n",
       "    <tr>\n",
       "      <th>2</th>\n",
       "      <td>group B</td>\n",
       "      <td>master's degree</td>\n",
       "      <td>standard</td>\n",
       "      <td>none</td>\n",
       "      <td>0.90</td>\n",
       "      <td>0.95</td>\n",
       "      <td>0.93</td>\n",
       "      <td>F</td>\n",
       "    </tr>\n",
       "    <tr>\n",
       "      <th>3</th>\n",
       "      <td>group A</td>\n",
       "      <td>associate's degree</td>\n",
       "      <td>free/reduced</td>\n",
       "      <td>none</td>\n",
       "      <td>0.47</td>\n",
       "      <td>0.57</td>\n",
       "      <td>0.44</td>\n",
       "      <td>M</td>\n",
       "    </tr>\n",
       "    <tr>\n",
       "      <th>4</th>\n",
       "      <td>group C</td>\n",
       "      <td>some college</td>\n",
       "      <td>standard</td>\n",
       "      <td>none</td>\n",
       "      <td>0.76</td>\n",
       "      <td>0.78</td>\n",
       "      <td>0.75</td>\n",
       "      <td>M</td>\n",
       "    </tr>\n",
       "  </tbody>\n",
       "</table>\n",
       "</div>"
      ],
      "text/plain": [
       "  race/ethnicity parental level of education         lunch  \\\n",
       "0        group B           bachelor's degree      standard   \n",
       "1        group C                some college      standard   \n",
       "2        group B             master's degree      standard   \n",
       "3        group A          associate's degree  free/reduced   \n",
       "4        group C                some college      standard   \n",
       "\n",
       "  test preparation course  math percentage  reading score percentage  \\\n",
       "0                    none             0.72                      0.72   \n",
       "1               completed             0.69                      0.90   \n",
       "2                    none             0.90                      0.95   \n",
       "3                    none             0.47                      0.57   \n",
       "4                    none             0.76                      0.78   \n",
       "\n",
       "   writing score percentage sex  \n",
       "0                      0.74   F  \n",
       "1                      0.88   F  \n",
       "2                      0.93   F  \n",
       "3                      0.44   M  \n",
       "4                      0.75   M  "
      ]
     },
     "execution_count": 2,
     "metadata": {},
     "output_type": "execute_result"
    }
   ],
   "source": [
    "#Load data - please don't change this part. \n",
    "df = pd.read_csv(\"Student Performance new.csv\")\n",
    "df.drop(columns={\"Unnamed: 0\"}, inplace=True)\n",
    "df.head()"
   ]
  },
  {
   "cell_type": "markdown",
   "metadata": {},
   "source": [
    "<h1>Part 1: Is There a Significant Difference Between Boys and Girls in Math? (10 pts) </h1>\n",
    "\n",
    "Investigate and justify your answer. You should show 'a few' pieces of evidence to bolster your conclusion. Use your judgement on what makes a good piece of evidence.\n",
    "\n",
    "<h2> Answers and Explantion: </h2>\n",
    "<ul>\n",
    "<li> The cohen effect size is valued at 0.34, which falls under small in terms of association.\n",
    "<li>Since the p-value is so small, we have to reject the null hypothesis which means that there is no significant difference between the two sexes.\n",
    "<li>The tests suggest that there is no signifcant difference between boys and girls in math.\n",
    "</ul>"
   ]
  },
  {
   "cell_type": "code",
   "execution_count": 106,
   "metadata": {},
   "outputs": [
    {
     "name": "stdout",
     "output_type": "stream",
     "text": [
      "0.34\n"
     ]
    }
   ],
   "source": [
    "def CohenEffectSize(group1, group2):\n",
    "    \"\"\"Compute Cohen's d.\n",
    "\n",
    "    group1: Series or NumPy array\n",
    "    group2: Series or NumPy array\n",
    "\n",
    "    returns: float\n",
    "    \"\"\"\n",
    "    diff = group1.mean() - group2.mean()\n",
    "\n",
    "    n1, n2 = len(group1), len(group2)\n",
    "    var1 = group1.var()\n",
    "    var2 = group2.var()\n",
    "\n",
    "    pooled_var = (n1 * var1 + n2 * var2) / (n1 + n2)\n",
    "    d = diff / np.sqrt(pooled_var)\n",
    "    return d\n",
    "\n",
    "x = CohenEffectSize(df_m[\"math percentage\"], df_f[\"math percentage\"])\n",
    "print(round(x,2))"
   ]
  },
  {
   "cell_type": "code",
   "execution_count": 58,
   "metadata": {},
   "outputs": [
    {
     "name": "stdout",
     "output_type": "stream",
     "text": [
      "9.120185549328735e-08\n"
     ]
    },
    {
     "data": {
      "image/png": "[encoded data removed]",
      "text/plain": [
       "<Figure size 864x432 with 1 Axes>"
      ]
     },
     "metadata": {
      "needs_background": "light"
     },
     "output_type": "display_data"
    }
   ],
   "source": [
    "df_m = df[df[\"sex\"]=='M']\n",
    "df_f = df[df[\"sex\"]=='F']\n",
    "\n",
    "\n",
    "#Seeing if normal distribution in order to do a t-test\n",
    "x, y = thinkstats2.Hist(df_m[\"math percentage\"]), thinkstats2.Hist(df_f[\"math percentage\"])\n",
    "thinkplot.PrePlot(2,1,2)\n",
    "thinkplot.Hist(x)\n",
    "thinkplot.Hist(y)\n",
    "\n",
    "stat, pval = ss.ttest_ind(df_m[\"math percentage\"], df_f[\"math percentage\"])\n",
    "print(pval)\n"
   ]
  },
  {
   "cell_type": "markdown",
   "metadata": {},
   "source": [
    "<h1>Part 2: Is there a difference in math performance depending on Parental Education (15 pts)</h1>\n",
    "\n",
    "Investigate and justify your answer. You should show 'a few' pieces of evidence to bolster your conclusion."
   ]
  },
  {
   "cell_type": "markdown",
   "metadata": {},
   "source": [
    "Answers:\n",
    "\n",
    "It seemed like there was no difference since the means of each parental level is not too far from the population mean. However, after taking the 2 levels of education farthest from the mean had scores between small to medium, and p values less than 0.05 except for those that had masters. Overall, we can say that the difference is not significant for most except for those that mad master's degree withg a pvalue of 0.07."
   ]
  },
  {
   "cell_type": "code",
   "execution_count": 183,
   "metadata": {},
   "outputs": [
    {
     "data": {
      "text/plain": [
       "<bound method Series.sort_values of parental level of education\n",
       "associate's degree    67.882883\n",
       "bachelor's degree     69.389831\n",
       "high school           62.137755\n",
       "master's degree       69.745763\n",
       "some college          67.128319\n",
       "some high school      63.497207\n",
       "Name: math percentage, dtype: float64>"
      ]
     },
     "execution_count": 183,
     "metadata": {},
     "output_type": "execute_result"
    }
   ],
   "source": [
    "grouped_parental = df.groupby([\"parental level of education\"])[\"math percentage\"].mean()*100\n",
    "grouped_parental"
   ]
  },
  {
   "cell_type": "code",
   "execution_count": 185,
   "metadata": {},
   "outputs": [
    {
     "data": {
      "text/plain": [
       "66.63029274887401"
      ]
     },
     "execution_count": 185,
     "metadata": {},
     "output_type": "execute_result"
    }
   ],
   "source": [
    "grouped_parental.mean()"
   ]
  },
  {
   "cell_type": "code",
   "execution_count": 192,
   "metadata": {},
   "outputs": [
    {
     "data": {
      "text/plain": [
       "(0.26232016691421084,\n",
       " 0.16960136989372135,\n",
       " -0.21801928840448498,\n",
       " -0.2411703820142319)"
      ]
     },
     "execution_count": 192,
     "metadata": {},
     "output_type": "execute_result"
    }
   ],
   "source": [
    "df_someHS = df[df['parental level of education']=='some high school']\n",
    "df_HS = df[df['parental level of education']=='high school']\n",
    "df_bac = df[df['parental level of education']==\"bachelor's degree\"]\n",
    "df_mas = df[df['parental level of education']==\"master's degree\"]\n",
    "\n",
    "hs = CohenEffectSize(df['math percentage'], df_HS['math percentage'])\n",
    "somehs = CohenEffectSize(df['math percentage'], df_someHS['math percentage'])\n",
    "bach = CohenEffectSize(df['math percentage'], df_bac['math percentage'])\n",
    "master = CohenEffectSize(df['math percentage'], df_mas['math percentage'])\n",
    "\n",
    "hs, somehs, bach, master"
   ]
  },
  {
   "cell_type": "code",
   "execution_count": 194,
   "metadata": {},
   "outputs": [
    {
     "data": {
      "text/plain": [
       "(0.03684682610005224,\n",
       " 0.0008097574965818318,\n",
       " 0.025299739478264197,\n",
       " 0.07212652146401037)"
      ]
     },
     "execution_count": 194,
     "metadata": {},
     "output_type": "execute_result"
    }
   ],
   "source": [
    "statsomeHS, pvalsomeHS = ss.ttest_ind(df[\"math percentage\"], df_someHS[\"math percentage\"])\n",
    "statHS, pvalHS = ss.ttest_ind(df[\"math percentage\"], df_HS[\"math percentage\"])\n",
    "statbac, pvalbac = ss.ttest_ind(df[\"math percentage\"], df_bac[\"math percentage\"])\n",
    "statmas, pvalmas = ss.ttest_ind(df[\"math percentage\"], df_mas[\"math percentage\"])\n",
    "\n",
    "pvalsomeHS, pvalHS, pvalbac, pvalmas"
   ]
  },
  {
   "cell_type": "markdown",
   "metadata": {},
   "source": [
    "<h1>What appears to be the best predictor of writing performance? (10pts)</h1>\n",
    "\n",
    "Justify your answer with about 2-3 sentences. Please also show the analysis that you did to draw your conclusion. There are multiple ways that you could come to a conclusion. "
   ]
  },
  {
   "cell_type": "markdown",
   "metadata": {},
   "source": [
    "Answers:\n",
    "\n",
    "The best predictor of writing performance seems to be the reading score percentage and the test preparation course as the next best. We can see that there is a strong positive correlation between the scores between reading and writing percentage. We can also see that those who completed a test prep course has a lower probability of socring less than 40%."
   ]
  },
  {
   "cell_type": "code",
   "execution_count": 207,
   "metadata": {},
   "outputs": [
    {
     "data": {
      "text/plain": [
       "<AxesSubplot:xlabel='writing score percentage', ylabel='test preparation course'>"
      ]
     },
     "execution_count": 207,
     "metadata": {},
     "output_type": "execute_result"
    },
    {
     "data": {
      "image/png": "[encoded data removed]",
      "text/plain": [
       "<Figure size 576x576 with 2 Axes>"
      ]
     },
     "metadata": {
      "needs_background": "light"
     },
     "output_type": "display_data"
    }
   ],
   "source": [
    "plt.subplot(1,2,1)\n",
    "sns.scatterplot(x=df['writing score percentage'], y=df['reading score percentage'])\n",
    "\n",
    "(plt.subplot(1,2,2))\n",
    "sns.scatterplot(x=df['writing score percentage'], y=df['test preparation course'])\n"
   ]
  },
  {
   "cell_type": "markdown",
   "metadata": {},
   "source": [
    "<h1>How well can the population read? (25 pts)</h1>\n",
    "<ul>\n",
    "<li>The test designers tell us that a score over 55% on the reading test is a good cutoff for being functionally literate. Given that, what percentage of test takers qualify as literate? (5 pts)\n",
    "<li>Assume that the test score results on this test reasonably represents the population. What is the expected mean score for the population at large, and what is the range in which you are 92% confident the population mean lies in? (15 pts)\n",
    "<li>Please demonstrate your 92% confidence from above in a graphical format (5pts)\n",
    "</ul>"
   ]
  },
  {
   "cell_type": "code",
   "execution_count": 73,
   "metadata": {},
   "outputs": [
    {
     "name": "stdout",
     "output_type": "stream",
     "text": [
      "The percentage of test takers that qualify as literate is 82.4%\n"
     ]
    }
   ],
   "source": [
    "df_reading = df[df['reading score percentage']>0.55]\n",
    "percent_lit = round((len(df_reading) / len(df['reading score percentage']))*100,2)\n",
    "\n",
    "print('The percentage of test takers that qualify as literate is '+ str(percent_lit) + '%')"
   ]
  },
  {
   "cell_type": "code",
   "execution_count": 212,
   "metadata": {},
   "outputs": [],
   "source": [
    "def simulateNormal(mu=0, sigma=1, n=100, m=10000, ciLow=4, ciHi=96) :\n",
    "    means = []\n",
    "    for j in range(m):\n",
    "        xs = np.random.normal(mu, sigma, n)\n",
    "        xbar = np.mean(xs)\n",
    "        means.append(xbar)\n",
    "    cdf = thinkstats2.Cdf(means)\n",
    "    ci = cdf.Percentile(ciLow), cdf.Percentile(ciHi)\n",
    "    muList = [mu] * m\n",
    "    stderr = mean_squared_error(means, muList, squared=False)\n",
    "    return cdf, ci, stderr"
   ]
  },
  {
   "cell_type": "code",
   "execution_count": 221,
   "metadata": {},
   "outputs": [
    {
     "name": "stdout",
     "output_type": "stream",
     "text": [
      "The mean score for the population at large with 92% confidnence interval is 69.16900000000004%\n"
     ]
    },
    {
     "data": {
      "image/png": "[encoded data removed]",
      "text/plain": [
       "<Figure size 576x576 with 1 Axes>"
      ]
     },
     "metadata": {
      "needs_background": "light"
     },
     "output_type": "display_data"
    }
   ],
   "source": [
    "mu = df[\"reading score percentage\"].mean()\n",
    "sigma = df[\"reading score percentage\"].std()\n",
    "n = df[\"reading score percentage\"].count()\n",
    "\n",
    "cdf, ci, stderr = simulateNormal(mu=mu, sigma=sigma, n=n, m=1000, ciLow=4, ciHi=96)\n",
    "print(\"The mean score for the population at large with 92% confidnence interval is \"+ str(mu*100) + \"%\")\n",
    "thinkplot.Cdf(cdf)\n",
    "thinkplot.axvline(ci[0], color=\"red\")\n",
    "thinkplot.axvline(mu, color=\"red\")\n",
    "thinkplot.axvline(ci[1], color=\"red\")\n",
    "thinkplot.Config()"
   ]
  },
  {
   "cell_type": "markdown",
   "metadata": {},
   "source": [
    "<h1>What are the odds...(10 pts)</h1>\n",
    "\n",
    "M&M's are small candy-coated chocolates that come in a variety of colors.  \n",
    "Mars, Inc., which makes M&M's, changes the mixture of colors from time to time.\n",
    "In 1995, they introduced blue M&M's.  \n",
    "\n",
    "* In 1994, the color mix in a bag of plain M&M's was 30\\% Brown, 20\\% Yellow, 20\\% Red, 10\\% Green, 10\\% Orange, 10\\% Tan.  \n",
    "\n",
    "* In 1996, it was 24\\% Blue , 20\\% Green, 16\\% Orange, 14\\% Yellow, 13\\% Red, 13\\% Brown.\n",
    "\n",
    "Suppose a friend of mine has two bags of M&M's, and he tells me\n",
    "that one is from 1994 and one from 1996.  He won't tell me which is\n",
    "which, but he gives me one M&M from each bag.  One is yellow and\n",
    "one is green.  What is the probability that the yellow one came\n",
    "from the 1994 bag?\n",
    "\n",
    "Hint: The trick to this question is to define the hypotheses and the data carefully."
   ]
  },
  {
   "cell_type": "code",
   "execution_count": 230,
   "metadata": {},
   "outputs": [
    {
     "name": "stdout",
     "output_type": "stream",
     "text": [
      "The probability that the yellow one came from the 1994 bag is 0.59\n"
     ]
    }
   ],
   "source": [
    "#Yellow Probablility Stats\n",
    "prior = 0.5\n",
    "lhood94 = 0.20\n",
    "lhood96 = 0.14\n",
    "\n",
    "unnorm94, unnorm96 = (prior*lhood94), (prior*lhood96)\n",
    "post94, post96 = (unnorm94/(unnorm94+unnorm96)), (unnorm96/(unnorm94+unnorm96))\n",
    "\n",
    "print(\"The probability that the yellow one came from the 1994 bag is \" + str(round(post94,2)))\n",
    "\n"
   ]
  },
  {
   "cell_type": "markdown",
   "metadata": {},
   "source": [
    "<h1>911 Calls (10pts)</h1>\n",
    "<ul>\n",
    "<li>For this data, what is the mean time in between 911 calls. (Note: this will require some manipulation of data - Google \"pandas date\" and \"date difference in minutes\" as a starting point. It is not super complex, apx 2-4 lines or so) (5pts)\n",
    "<li>What is a good distribution to model this? (5pts)\n",
    "</ul>"
   ]
  },
  {
   "cell_type": "code",
   "execution_count": 20,
   "metadata": {},
   "outputs": [
    {
     "data": {
      "text/html": [
       "<div>\n",
       "<style scoped>\n",
       "    .dataframe tbody tr th:only-of-type {\n",
       "        vertical-align: middle;\n",
       "    }\n",
       "\n",
       "    .dataframe tbody tr th {\n",
       "        vertical-align: top;\n",
       "    }\n",
       "\n",
       "    .dataframe thead th {\n",
       "        text-align: right;\n",
       "    }\n",
       "</style>\n",
       "<table border=\"1\" class=\"dataframe\">\n",
       "  <thead>\n",
       "    <tr style=\"text-align: right;\">\n",
       "      <th></th>\n",
       "      <th>zip</th>\n",
       "      <th>title</th>\n",
       "      <th>timeStamp</th>\n",
       "      <th>twp</th>\n",
       "    </tr>\n",
       "  </thead>\n",
       "  <tbody>\n",
       "    <tr>\n",
       "      <th>0</th>\n",
       "      <td>19525.0</td>\n",
       "      <td>EMS: BACK PAINS/INJURY</td>\n",
       "      <td>2015-12-10 17:10</td>\n",
       "      <td>NEW HANOVER</td>\n",
       "    </tr>\n",
       "    <tr>\n",
       "      <th>1</th>\n",
       "      <td>19446.0</td>\n",
       "      <td>EMS: DIABETIC EMERGENCY</td>\n",
       "      <td>2015-12-10 17:29</td>\n",
       "      <td>HATFIELD TOWNSHIP</td>\n",
       "    </tr>\n",
       "    <tr>\n",
       "      <th>2</th>\n",
       "      <td>19401.0</td>\n",
       "      <td>Fire: GAS-ODOR/LEAK</td>\n",
       "      <td>2015-12-10 14:39</td>\n",
       "      <td>NORRISTOWN</td>\n",
       "    </tr>\n",
       "    <tr>\n",
       "      <th>3</th>\n",
       "      <td>19401.0</td>\n",
       "      <td>EMS: CARDIAC EMERGENCY</td>\n",
       "      <td>2015-12-10 16:47</td>\n",
       "      <td>NORRISTOWN</td>\n",
       "    </tr>\n",
       "    <tr>\n",
       "      <th>4</th>\n",
       "      <td>NaN</td>\n",
       "      <td>EMS: DIZZINESS</td>\n",
       "      <td>2015-12-10 16:56</td>\n",
       "      <td>LOWER POTTSGROVE</td>\n",
       "    </tr>\n",
       "  </tbody>\n",
       "</table>\n",
       "</div>"
      ],
      "text/plain": [
       "       zip                    title         timeStamp                twp\n",
       "0  19525.0   EMS: BACK PAINS/INJURY  2015-12-10 17:10        NEW HANOVER\n",
       "1  19446.0  EMS: DIABETIC EMERGENCY  2015-12-10 17:29  HATFIELD TOWNSHIP\n",
       "2  19401.0      Fire: GAS-ODOR/LEAK  2015-12-10 14:39         NORRISTOWN\n",
       "3  19401.0   EMS: CARDIAC EMERGENCY  2015-12-10 16:47         NORRISTOWN\n",
       "4      NaN           EMS: DIZZINESS  2015-12-10 16:56   LOWER POTTSGROVE"
      ]
     },
     "execution_count": 20,
     "metadata": {},
     "output_type": "execute_result"
    }
   ],
   "source": [
    "#read file - Don't change this part. \n",
    "calls = \"\"\n",
    "with ZipFile('911_2.csv.zip') as myzip:\n",
    "    with myzip.open('911_2.csv') as myfile:\n",
    "       calls = pd.read_csv(myfile)\n",
    "calls.head()"
   ]
  },
  {
   "cell_type": "code",
   "execution_count": 50,
   "metadata": {},
   "outputs": [
    {
     "name": "stdout",
     "output_type": "stream",
     "text": [
      "The mean time in between the calls is 0 days 00:03:40.427507192 minutes.\n"
     ]
    }
   ],
   "source": [
    "from datetime import datetime\n",
    "df_sorted = calls.sort_values('timeStamp')\n",
    "\n",
    "tStamp = pd.to_datetime(df_sorted['timeStamp'])\n",
    "df_time = tStamp.diff()\n",
    "meancall = df_time.mean()\n",
    "\n",
    "print(\"The mean time in between the calls is \"+str(meancall)+\" minutes.\")"
   ]
  },
  {
   "cell_type": "markdown",
   "metadata": {},
   "source": [
    "We can see that based on the diffrence on time stamp of the calls, the mean is the largest and mode is the smallest out of the three. This means that the data is skewed to the right so a right-skewed distribution would best fit the model."
   ]
  },
  {
   "cell_type": "code",
   "execution_count": 115,
   "metadata": {},
   "outputs": [
    {
     "name": "stdout",
     "output_type": "stream",
     "text": [
      "0 days 00:03:40.427507192 0 days 00:02:00 0   0 days 00:01:00\n",
      "dtype: timedelta64[ns]\n"
     ]
    }
   ],
   "source": [
    "c_mean, c_median, c_mode = df_time.mean(), df_time.median(), df_time.mode()\n",
    "print(c_mean, c_median, c_mode)"
   ]
  }
 ],
 "metadata": {
  "interpreter": {
   "hash": "ea39297c2a3b8433e0e3c4b620aff79df88eb4bda961dfb2311fbafd7efdbd77"
  },
  "kernelspec": {
   "display_name": "Python 3.8.11 64-bit ('base': conda)",
   "name": "python3"
  },
  "language_info": {
   "codemirror_mode": {
    "name": "ipython",
    "version": 3
   },
   "file_extension": ".py",
   "mimetype": "text/x-python",
   "name": "python",
   "nbconvert_exporter": "python",
   "pygments_lexer": "ipython3",
   "version": "3.8.8"
  },
  "orig_nbformat": 4
 },
 "nbformat": 4,
 "nbformat_minor": 2
}
